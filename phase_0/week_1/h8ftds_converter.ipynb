{
 "cells": [
  {
   "cell_type": "code",
   "execution_count": 5,
   "metadata": {},
   "outputs": [
    {
     "name": "stdout",
     "output_type": "stream",
     "text": [
      "Suhu Celcius dalam Kelvin 285.15\n",
      "Suhu Kelvin dalam Celcius -258.15\n",
      "Suhu Kelvin dalan Farenhiet -441.67\n",
      "Suhu Celcius dalan Farenhiet 53.6\n",
      "Suhu Farenheit dalam Celcium -12.222222222222221\n",
      "Suhu Farenheit dalam Kelvin 262.0388888888889\n"
     ]
    }
   ],
   "source": [
    "def celcius(x):\n",
    "    kel = x  + 273.15\n",
    "    print(\"Suhu Celcius dalam Kelvin\", kel)\n",
    "    return celcius\n",
    "\n",
    "def kelvin(y):\n",
    "    cel = y - 273.15\n",
    "    print(\"Suhu Kelvin dalam Celcius\",cel)\n",
    "    return kelvin\n",
    "\n",
    "def farenheit(k, c):\n",
    "    kelfar = (k*1.8) - 459.67\n",
    "    print(\"Suhu Kelvin dalan Farenhiet\", kelfar)\n",
    "    celfar = (c*1.8) + 32\n",
    "    print(\"Suhu Celcius dalan Farenhiet\", celfar)\n",
    "    return farenheit\n",
    "    \n",
    "def celkelfar(cel,kel):\n",
    "    farcel = (cel-32)/1.8\n",
    "    print(\"Suhu Farenheit dalam Celcium\",farcel)\n",
    "    farkel = (kel+459.67)/1.8\n",
    "    print(\"Suhu Farenheit dalam Kelvin\",farkel)\n",
    "\n",
    "    \n",
    "\n",
    "celcius(12)\n",
    "kelvin(15)\n",
    "farenheit (k=10, c=12)\n",
    "celkelfar (cel=10, kel=12)\n"
   ]
  },
  {
   "cell_type": "code",
   "execution_count": null,
   "metadata": {},
   "outputs": [],
   "source": []
  }
 ],
 "metadata": {
  "interpreter": {
   "hash": "8b014316e00cacbd0a170426bdbf4c02d6ba6e7c726f861110bc4eb2b5492c13"
  },
  "kernelspec": {
   "display_name": "Python 3.10.2 64-bit (windows store)",
   "language": "python",
   "name": "python3"
  },
  "language_info": {
   "codemirror_mode": {
    "name": "ipython",
    "version": 3
   },
   "file_extension": ".py",
   "mimetype": "text/x-python",
   "name": "python",
   "nbconvert_exporter": "python",
   "pygments_lexer": "ipython3",
   "version": "3.10.2"
  },
  "orig_nbformat": 4
 },
 "nbformat": 4,
 "nbformat_minor": 2
}
