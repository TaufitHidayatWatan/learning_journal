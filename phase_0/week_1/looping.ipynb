{
  "nbformat": 4,
  "nbformat_minor": 0,
  "metadata": {
    "colab": {
      "name": "looping.ipynb",
      "provenance": [],
      "collapsed_sections": []
    },
    "kernelspec": {
      "name": "python3",
      "display_name": "Python 3"
    },
    "language_info": {
      "name": "python"
    }
  },
  "cells": [
    {
      "cell_type": "code",
      "execution_count": 4,
      "metadata": {
        "colab": {
          "base_uri": "https://localhost:8080/"
        },
        "id": "Rvltbq_hHlav",
        "outputId": "60c24ad0-710d-4ff7-e414-fe9f9e9bbfd4"
      },
      "outputs": [
        {
          "output_type": "stream",
          "name": "stdout",
          "text": [
            "done\n",
            "402\n",
            "done\n",
            "984\n",
            "done\n",
            "done\n",
            "360\n",
            "done\n",
            "done\n",
            "408\n",
            "done\n",
            "done\n",
            "done\n",
            "done\n",
            "980\n",
            "done\n",
            "done\n",
            "done\n",
            "done\n",
            "544\n",
            "done\n",
            "done\n",
            "done\n",
            "done\n",
            "done\n",
            "done\n",
            "done\n",
            "done\n",
            "done\n",
            "done\n",
            "done\n",
            "390\n",
            "done\n",
            "984\n",
            "done\n",
            "592\n",
            "done\n",
            "236\n",
            "done\n",
            "done\n",
            "942\n",
            "done\n",
            "done\n",
            "386\n",
            "done\n",
            "462\n",
            "done\n",
            "done\n",
            "418\n",
            "done\n",
            "done\n",
            "344\n",
            "done\n",
            "236\n",
            "done\n",
            "done\n",
            "done\n",
            "566\n",
            "done\n",
            "done\n",
            "978\n",
            "done\n",
            "328\n",
            "done\n",
            "done\n",
            "done\n",
            "done\n",
            "done\n",
            "162\n",
            "done\n",
            "758\n",
            "done\n",
            "done\n",
            "918\n"
          ]
        }
      ],
      "source": [
        "numbers = [951, 402, 984, 651, 360, 69, 408, 319, 601, 485, 980, 507, 725, 547, 544, 615, 83, 165, 141, 501, 263, 617, 865, 575, 219, 390, 984, 592, 236, 105, 942, 941, 386, 462, 47, 418, 907, 344, 236, 375, 823, 566, 597, 978, 328, 615, 953, 345, 399, 162, 758, 219, 918, 237, 412, 566, 826, 248, 866, 950, 626, 949]\n",
        "for x in numbers:\n",
        "    if x%2==0:\n",
        "        print(x)\n",
        "        if x == 918:\n",
        "            break\n",
        "    print (\"done\")"
      ]
    },
    {
      "cell_type": "code",
      "source": [
        ""
      ],
      "metadata": {
        "id": "f2DbdpZpHnVp"
      },
      "execution_count": null,
      "outputs": []
    }
  ]
}